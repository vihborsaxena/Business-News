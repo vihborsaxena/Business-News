{
 "cells": [
  {
   "cell_type": "code",
   "execution_count": 1,
   "metadata": {},
   "outputs": [],
   "source": [
    "#Import selenium and get browser open\n",
    "from selenium import webdriver\n",
    "from selenium.webdriver.common.keys import Keys\n",
    "import time\n",
    "from IPython.display import Markdown, display\n",
    "def printmd(string):\n",
    "    display(Markdown(string))"
   ]
  },
  {
   "cell_type": "code",
   "execution_count": 2,
   "metadata": {},
   "outputs": [],
   "source": [
    "browser = webdriver.Chrome(executable_path=r\"C:\\chromedriver.exe\")\n",
    "browser.get(\"https://economictimes.indiatimes.com/\") "
   ]
  },
  {
   "cell_type": "code",
   "execution_count": 3,
   "metadata": {},
   "outputs": [
    {
     "data": {
      "text/markdown": [
       "**From Economic Times -**"
      ],
      "text/plain": [
       "<IPython.core.display.Markdown object>"
      ]
     },
     "metadata": {},
     "output_type": "display_data"
    },
    {
     "name": "stdout",
     "output_type": "stream",
     "text": [
      "['Airlines in India spread their wings to escape airfare war at home']\n",
      "[\"Billionaire Anil Agarwal's problems in India may have only just started\", \"IPO for Air India among many options on Modi's table after the flop show in bids\"]\n",
      "['Aircel-Maxis: ED files charge sheet against Karti']\n",
      "[\"Vajpayee's health improving: AIIMS director\"]\n",
      "[\"Bhaiyyuji Maharaj's associate gets power of attorney\"]\n",
      "[\"After 3 years, Kejriwal back to 'dharna' politics\"]\n",
      "['Fire breaks out at Worli high-rise in Mumbai', '']\n",
      "[\"Delhi air beyond 'severe' due to dust storm\", '']\n",
      "['Musharraf gets 1 day to appear before Pak top court']\n",
      "['Aircel-Maxis: ED files fresh chargesheet against Karti']\n",
      "['DNA study gives new theory on how Indians evolved']\n",
      "['Most BSF men killed this year since 2013']\n"
     ]
    }
   ],
   "source": [
    "printmd(\"**From Economic Times -**\")\n",
    "for i in range(1,3):\n",
    "    gnews = browser.find_elements_by_xpath(\"//*[@id='pageContent']/div[1]/hgroup/h\"+str(i)+\"/a\")\n",
    "    titles = [x.text for x in gnews]\n",
    "    print(titles)\n",
    "for i in range(1,11):\n",
    "    gnews = browser.find_elements_by_xpath(\"//*[@id='pageContent']/div[1]/hgroup/h3[\"+str(i)+\"]/a\")\n",
    "    titles = [x.text for x in gnews]\n",
    "    print(titles)"
   ]
  },
  {
   "cell_type": "code",
   "execution_count": 4,
   "metadata": {},
   "outputs": [],
   "source": [
    "browser.execute_script(\"window.open('https://www.moneycontrol.com/')\")\n",
    "window_after = browser.window_handles[1]\n",
    "browser.switch_to_window(window_after)"
   ]
  },
  {
   "cell_type": "code",
   "execution_count": 6,
   "metadata": {},
   "outputs": [
    {
     "data": {
      "text/markdown": [
       "**From Money Control -**"
      ],
      "text/plain": [
       "<IPython.core.display.Markdown object>"
      ]
     },
     "metadata": {},
     "output_type": "display_data"
    },
    {
     "name": "stdout",
     "output_type": "stream",
     "text": [
      "['GST on petrol, diesel may run into stiff opposition from states']\n",
      "['SFIO begins probe into Aircel on suspicion of siphoning funds']\n",
      "[\"News Live: Cabinet approves HDFC Bank's fund raising plan, says Piyush Goyal\"]\n",
      "['UIDAI delays face recognition roll-out for Aadhaar verification until August 1']\n",
      "['Worli high-rise fire LIVE: Firefighting operations under way, 20 fire engines, 5 water tankers at spot']\n",
      "['Labour union accuses Tech Mahindra of layoffs, unfair termination']\n",
      "['Cultivating seaweed could be a massive opportunity for India']\n",
      "['FIFA World Cup 2018: Spain sack coach Julen Lopetegui a day before tournament starts']\n",
      "[\"Single vs multi-trip insurance — What's the best policy for travelling abroad?\"]\n",
      "[]\n",
      "['Future Retail plans to open 10,000 small format stores in next few years: Rakesh Biyani']\n",
      "['Amazing offers at bars and restaurants as FIFA fever grips country']\n",
      "['Nanodiamonds could be source of mysterious microwaves across Milky Way']\n",
      "['Nalco bullish about its prospects despite Trump import tariffs']\n",
      "['Tesla to fire over 3000 employees, Elon Musk confirms move via tweet']\n"
     ]
    }
   ],
   "source": [
    "printmd(\"**From Money Control -**\")\n",
    "for i in range(1):\n",
    "    gnews = browser.find_elements_by_xpath(\"//*[@id='mc_mainWrapper']/section/div/div[2]/section/div[1]/div[2]/div[1]/div[1]/h1/a\")\n",
    "    titles = [x.text for x in gnews]\n",
    "    print(titles)\n",
    "for i in range(1,5):\n",
    "    gnews = browser.find_elements_by_xpath(\"//*[@id='mc_mainWrapper']/section/div/div[2]/section/div[1]/div[2]/div[2]/div/div[\"+str(i)+\"]/p/a\")\n",
    "    titles = [x.text for x in gnews]\n",
    "    print(titles)\n",
    "for i in range(1,11):\n",
    "    gnews = browser.find_elements_by_xpath(\"//*[@id='keynwstb1']/ul/li[\"+str(i)+\"]/a\")\n",
    "    titles = [x.text for x in gnews]\n",
    "    print(titles)"
   ]
  },
  {
   "cell_type": "code",
   "execution_count": null,
   "metadata": {},
   "outputs": [],
   "source": []
  },
  {
   "cell_type": "code",
   "execution_count": null,
   "metadata": {},
   "outputs": [],
   "source": []
  },
  {
   "cell_type": "code",
   "execution_count": null,
   "metadata": {},
   "outputs": [],
   "source": []
  },
  {
   "cell_type": "code",
   "execution_count": null,
   "metadata": {},
   "outputs": [],
   "source": []
  },
  {
   "cell_type": "markdown",
   "metadata": {},
   "source": [
    "# Testing Part"
   ]
  },
  {
   "cell_type": "code",
   "execution_count": 28,
   "metadata": {},
   "outputs": [],
   "source": [
    "#Import selenium and get browser open\n",
    "from selenium import webdriver\n",
    "from selenium.webdriver.common.keys import Keys\n",
    "import time\n",
    "browser = webdriver.Chrome(executable_path=r\"C:\\chromedriver.exe\")\n",
    "browser.get(\"https://economictimes.indiatimes.com/\") \n",
    "\n"
   ]
  },
  {
   "cell_type": "code",
   "execution_count": 29,
   "metadata": {},
   "outputs": [],
   "source": [
    "from IPython.display import Markdown, display\n",
    "def printmd(string):\n",
    "    display(Markdown(string))"
   ]
  },
  {
   "cell_type": "code",
   "execution_count": null,
   "metadata": {},
   "outputs": [],
   "source": [
    "//*[@id=\"pageContent\"]/div[1]/hgroup/h3[1]/a\n",
    "//*[@id='pageContent']/div[1]/div/div[7]/div[2]/ul/li[3]/ul/li[\"+str(i)+\"]/a"
   ]
  },
  {
   "cell_type": "code",
   "execution_count": 31,
   "metadata": {},
   "outputs": [
    {
     "data": {
      "text/markdown": [
       "**From Economic Times -**"
      ],
      "text/plain": [
       "<IPython.core.display.Markdown object>"
      ]
     },
     "metadata": {},
     "output_type": "display_data"
    },
    {
     "name": "stdout",
     "output_type": "stream",
     "text": [
      "['Airlines in India spread their wings to escape airfare war at home']\n",
      "[\"Billionaire Anil Agarwal's problems in India may have only just started\", \"IPO for Air India among many options on Modi's table after the flop show in bids\"]\n",
      "[\"Vajpayee's health improving: AIIMS director\"]\n",
      "[\"Bhaiyyuji Maharaj's associate gets power of attorney\"]\n",
      "[\"After 3 years, Kejriwal back to 'dharna' politics\"]\n",
      "['Fire breaks out at Worli high-rise in Mumbai', '']\n",
      "[\"Delhi air beyond 'severe' due to dust storm\", '']\n",
      "['Musharraf gets 1 day to appear before Pak top court']\n",
      "['Aircel-Maxis: ED files fresh chargesheet against Karti']\n",
      "['DNA study gives new theory on how Indians evolved']\n",
      "['Most BSF men killed this year since 2013']\n",
      "['Akhilesh blames BJP for damaged bungalow', '']\n"
     ]
    }
   ],
   "source": [
    "printmd(\"**From Economic Times -**\")\n",
    "for i in range(1,3):\n",
    "    gnews = browser.find_elements_by_xpath(\"//*[@id='pageContent']/div[1]/hgroup/h\"+str(i)+\"/a\")\n",
    "    titles = [x.text for x in gnews]\n",
    "    print(titles)\n",
    "for i in range(1,11):\n",
    "    gnews = browser.find_elements_by_xpath(\"//*[@id='pageContent']/div[1]/hgroup/h3[\"+str(i)+\"]/a\")\n",
    "    titles = [x.text for x in gnews]\n",
    "    print(titles)\n"
   ]
  },
  {
   "cell_type": "code",
   "execution_count": null,
   "metadata": {},
   "outputs": [],
   "source": [
    "browser = webdriver.Chrome(executable_path=r\"C:\\chromedriver.exe\")\n",
    "browser.get(\"https://www.moneycontrol.com/\") "
   ]
  },
  {
   "cell_type": "code",
   "execution_count": null,
   "metadata": {},
   "outputs": [],
   "source": [
    "printmd(\"**From Money Control -**\")\n",
    "for i in range(1):\n",
    "    gnews = browser.find_elements_by_xpath(\"//*[@id='mc_mainWrapper']/section/div/div[2]/section/div[1]/div[2]/div[1]/div[1]/h1/a\")\n",
    "    titles = [x.text for x in gnews]\n",
    "    print(titles)\n",
    "for i in range(1,5):\n",
    "    gnews = browser.find_elements_by_xpath(\"//*[@id='mc_mainWrapper']/section/div/div[2]/section/div[1]/div[2]/div[2]/div/div[\"+str(i)+\"]/p/a\")\n",
    "    titles = [x.text for x in gnews]\n",
    "    print(titles)\n",
    "for i in range(1,11):\n",
    "    gnews = browser.find_elements_by_xpath(\"//*[@id='keynwstb1']/ul/li[\"+str(i)+\"]/a\")\n",
    "    titles = [x.text for x in gnews]\n",
    "    print(titles)"
   ]
  },
  {
   "cell_type": "code",
   "execution_count": null,
   "metadata": {},
   "outputs": [],
   "source": []
  },
  {
   "cell_type": "code",
   "execution_count": null,
   "metadata": {},
   "outputs": [],
   "source": []
  },
  {
   "cell_type": "code",
   "execution_count": null,
   "metadata": {},
   "outputs": [],
   "source": []
  },
  {
   "cell_type": "code",
   "execution_count": 46,
   "metadata": {},
   "outputs": [],
   "source": [
    "#Import selenium and get browser open\n",
    "from selenium import webdriver\n",
    "from selenium.webdriver.common.keys import Keys\n",
    "import time\n",
    "from IPython.display import Markdown, display\n",
    "def printmd(string):\n",
    "    display(Markdown(string))"
   ]
  },
  {
   "cell_type": "code",
   "execution_count": 47,
   "metadata": {},
   "outputs": [
    {
     "data": {
      "text/markdown": [
       "**From Economic Times -**"
      ],
      "text/plain": [
       "<IPython.core.display.Markdown object>"
      ]
     },
     "metadata": {},
     "output_type": "display_data"
    },
    {
     "name": "stdout",
     "output_type": "stream",
     "text": [
      "[\"Modi's plan to put India's aam aadmi on flight hits an air pocket\"]\n",
      "['A 77-yr-old former Supreme Court judge has Google and Amazon extremely nervous', 'How to make the most from mid cap stocks in a market suffering from mood swings']\n",
      "[\"Inox Wind auditor joins the 'I quit' list, here's why\"]\n",
      "['Wasim Akram shot at in Karachi']\n",
      "['Infosys launches new Microsoft Cloud Business Unit']\n",
      "['Air Asia case: ED collects FDI approval documents']\n",
      "[\"Petrol prices are down again, here's the chart\"]\n",
      "['2 midcap stocks Deven Choksey would like to buy on dips']\n",
      "['Embassy lines up Rs. 250 crore for metro station and flyover']\n",
      "['Shabana Azmi issues apology on her tweet on railways']\n",
      "['Arvind Kejriwal alleges raid at DJB offices, CBI denies']\n",
      "['Deutsche Bank to sack over 7,000 employees']\n"
     ]
    },
    {
     "data": {
      "text/markdown": [
       "**From Money Control -**"
      ],
      "text/plain": [
       "<IPython.core.display.Markdown object>"
      ]
     },
     "metadata": {},
     "output_type": "display_data"
    },
    {
     "name": "stdout",
     "output_type": "stream",
     "text": [
      "['Top 12 expert moneymaking ideas for the next 30 days']\n",
      "['250 smallcaps hit fresh 52-week lows in June; what should investors do now?']\n",
      "['Market Live: Nifty gains 50 points, Sensex above 35,600; Bharti Airtel, Bajaj Finance lead gainers']\n",
      "['5 best short-term investment options to fund your next dream vacation']\n",
      "['US, North Korea officials in final summit preparations']\n",
      "['Petrol, diesel prices slashed for 13th day in a row. Check how much you need to pay today']\n",
      "['News Live: BJP can bring petrol, diesel under GST as they have majority, says Chidambaram']\n",
      "['PNB expects to recover Rs 8,000 cr from NPAs this month']\n",
      "['Bitcoin drops to two-month low, trading below USD 7,000']\n",
      "[]\n",
      "[\"China's Xiaomi posts $1 billion first-quarter loss ahead of blockbuster IPO\"]\n",
      "['Tata Nano exports come to naught. Is this the beginning of the end of the mini car?']\n",
      "[\"Are you selling your car? Here's how you should transfer your insurance policy and other documents\"]\n",
      "['FIFA World Cup 2018: Rejected by Lyon, extolled by France – the rise of Antoine Griezmann']\n",
      "['Indian Hotels among three in race to buy 4-star hotel in New Delhi']\n"
     ]
    }
   ],
   "source": [
    "browser = webdriver.Chrome(executable_path=r\"C:\\chromedriver.exe\")\n",
    "browser.get(\"https://economictimes.indiatimes.com/\") \n",
    "\n",
    "printmd(\"**From Economic Times -**\")\n",
    "for i in range(1,3):\n",
    "    gnews = browser.find_elements_by_xpath(\"//*[@id='pageContent']/div[1]/hgroup/h\"+str(i)+\"/a\")\n",
    "    titles = [x.text for x in gnews]\n",
    "    print(titles)\n",
    "for i in range(1,11):\n",
    "    gnews = browser.find_elements_by_xpath(\"//*[@id='pageContent']/div[1]/div/div[7]/div[2]/ul/li[3]/ul/li[\"+str(i)+\"]/a\")\n",
    "    titles = [x.text for x in gnews]\n",
    "    print(titles)\n",
    "browser = webdriver.Chrome(executable_path=r\"C:\\chromedriver.exe\")\n",
    "browser.get(\"https://www.moneycontrol.com/\") \n",
    "printmd(\"**From Money Control -**\")\n",
    "for i in range(1):\n",
    "    gnews = browser.find_elements_by_xpath(\"//*[@id='mc_mainWrapper']/section/div/div[2]/section/div[1]/div[2]/div[1]/div[1]/h1/a\")\n",
    "    titles = [x.text for x in gnews]\n",
    "    print(titles)\n",
    "for i in range(1,5):\n",
    "    gnews = browser.find_elements_by_xpath(\"//*[@id='mc_mainWrapper']/section/div/div[2]/section/div[1]/div[2]/div[2]/div/div[\"+str(i)+\"]/p/a\")\n",
    "    titles = [x.text for x in gnews]\n",
    "    print(titles)\n",
    "for i in range(1,11):\n",
    "    gnews = browser.find_elements_by_xpath(\"//*[@id='keynwstb1']/ul/li[\"+str(i)+\"]/a\")\n",
    "    titles = [x.text for x in gnews]\n",
    "    print(titles)"
   ]
  },
  {
   "cell_type": "code",
   "execution_count": null,
   "metadata": {},
   "outputs": [],
   "source": []
  },
  {
   "cell_type": "code",
   "execution_count": 4,
   "metadata": {},
   "outputs": [],
   "source": [
    "browser = webdriver.Chrome(executable_path=r\"C:\\chromedriver.exe\")\n",
    "browser.get(\"https://www.google.com/\") \n",
    "browser = webdriver.Chrome(executable_path=r\"C:\\chromedriver.exe\")\n",
    "browser.get(\"https://www.google.com/\") "
   ]
  },
  {
   "cell_type": "code",
   "execution_count": 7,
   "metadata": {},
   "outputs": [],
   "source": [
    "browser = webdriver.Chrome(executable_path=r\"C:\\chromedriver.exe\")\n",
    "browser.get(\"https://www.google.com/\") \n",
    " \n",
    "browser.execute_script(\"window.open('https://www.google.com')\")"
   ]
  },
  {
   "cell_type": "code",
   "execution_count": null,
   "metadata": {},
   "outputs": [],
   "source": []
  },
  {
   "cell_type": "code",
   "execution_count": 14,
   "metadata": {},
   "outputs": [],
   "source": [
    "#Import selenium and get browser open\n",
    "from selenium import webdriver\n",
    "from selenium.webdriver.common.keys import Keys\n",
    "import time\n",
    "from IPython.display import Markdown, display\n",
    "def printmd(string):\n",
    "    display(Markdown(string))"
   ]
  },
  {
   "cell_type": "code",
   "execution_count": 19,
   "metadata": {},
   "outputs": [
    {
     "data": {
      "text/markdown": [
       "**From Economic Times -**"
      ],
      "text/plain": [
       "<IPython.core.display.Markdown object>"
      ]
     },
     "metadata": {},
     "output_type": "display_data"
    },
    {
     "name": "stdout",
     "output_type": "stream",
     "text": [
      "['Trying to keep everyone happy is making ONGC miserable and broke']\n",
      "[\"Modi's plan to put the man in hawai chappals on a flight hits an air pocket\", \"The retirement plan you should be working on to make sure you don't end up broke\"]\n",
      "['Wasim Akram shot at in Karachi']\n",
      "['Infosys launches new Microsoft Cloud Business Unit']\n",
      "['Trump has a problem with vegetarian cow']\n",
      "['ITC Hotels launches ITC Kohenur in Hyderabad']\n",
      "['Money markets see biggest inflows since October 2013']\n",
      "['Shabana Azmi issues apology on her tweet on railways']\n",
      "['Biggest casualty of Nipah virus could be Kerala tourism']\n",
      "[\"'Akhilesh damaged residence before vacating it'\"]\n",
      "[\"Petrol prices are down again, here's the chart\"]\n",
      "['2 midcap stocks Deven Choksey would like to buy on dips']\n"
     ]
    },
    {
     "data": {
      "text/markdown": [
       "**From Money Control -**"
      ],
      "text/plain": [
       "<IPython.core.display.Markdown object>"
      ]
     },
     "metadata": {},
     "output_type": "display_data"
    },
    {
     "name": "stdout",
     "output_type": "stream",
     "text": [
      "['Top 12 expert moneymaking ideas for the next 30 days']\n",
      "['250 smallcaps hit fresh 52-week lows in June; what should investors do now?']\n",
      "['Closing Bell: Market ends with marginal gains, Nifty below 10,800; Bharti Airtel, Sun Pharma top gainers']\n",
      "['5 best short-term investment options to fund your next dream vacation']\n",
      "['News Live: US President Donald Trump accuses India of charging 100% tariff on some imports']\n",
      "['ICICI Bank CEO Chanda Kochhar could pay max fine of Rs 25cr if found guilty: Report']\n",
      "['Petrol, diesel prices slashed for 13th day in a row. Check how much you need to pay today']\n",
      "['Former prime minister AB Vajpayee hospitalised at AIIMS']\n",
      "['Monsoon-proof yourself with the right basket of insurance policies']\n",
      "[]\n",
      "['Bitcoin drops to two-month low, trading below USD 7,000']\n",
      "['Foxconn says investigating labor conditions at China factory used for Amazon']\n",
      "['Tata Nano exports come to naught. Is this the beginning of the end of the mini car?']\n",
      "[\"Are you selling your car? Here's how you should transfer your insurance policy and other documents\"]\n",
      "['GoAir to moderate its growth plans in face of rising oil prices, fewer pilots']\n"
     ]
    }
   ],
   "source": [
    "browser = webdriver.Chrome(executable_path=r\"C:\\chromedriver.exe\")\n",
    "browser.get(\"https://economictimes.indiatimes.com/\") \n",
    "\n",
    "printmd(\"**From Economic Times -**\")\n",
    "for i in range(1,3):\n",
    "    gnews = browser.find_elements_by_xpath(\"//*[@id='pageContent']/div[1]/hgroup/h\"+str(i)+\"/a\")\n",
    "    titles = [x.text for x in gnews]\n",
    "    print(titles)\n",
    "for i in range(1,11):\n",
    "    gnews = browser.find_elements_by_xpath(\"//*[@id='pageContent']/div[1]/div/div[7]/div[2]/ul/li[3]/ul/li[\"+str(i)+\"]/a\")\n",
    "    titles = [x.text for x in gnews]\n",
    "    print(titles)\n",
    "browser.execute_script(\"window.open('https://www.moneycontrol.com/')\")\n",
    "window_after = browser.window_handles[1]\n",
    "browser.switch_to_window(window_after)\n",
    "printmd(\"**From Money Control -**\")\n",
    "for i in range(1):\n",
    "    gnews = browser.find_elements_by_xpath(\"//*[@id='mc_mainWrapper']/section/div/div[2]/section/div[1]/div[2]/div[1]/div[1]/h1/a\")\n",
    "    titles = [x.text for x in gnews]\n",
    "    print(titles)\n",
    "for i in range(1,5):\n",
    "    gnews = browser.find_elements_by_xpath(\"//*[@id='mc_mainWrapper']/section/div/div[2]/section/div[1]/div[2]/div[2]/div/div[\"+str(i)+\"]/p/a\")\n",
    "    titles = [x.text for x in gnews]\n",
    "    print(titles)\n",
    "for i in range(1,11):\n",
    "    gnews = browser.find_elements_by_xpath(\"//*[@id='keynwstb1']/ul/li[\"+str(i)+\"]/a\")\n",
    "    titles = [x.text for x in gnews]\n",
    "    print(titles)"
   ]
  },
  {
   "cell_type": "code",
   "execution_count": null,
   "metadata": {},
   "outputs": [],
   "source": [
    "browser.find_element_by_tag_name('body').send_keys(Keys.CONTROL + Keys.TAB"
   ]
  }
 ],
 "metadata": {
  "kernelspec": {
   "display_name": "Python 3",
   "language": "python",
   "name": "python3"
  },
  "language_info": {
   "codemirror_mode": {
    "name": "ipython",
    "version": 3
   },
   "file_extension": ".py",
   "mimetype": "text/x-python",
   "name": "python",
   "nbconvert_exporter": "python",
   "pygments_lexer": "ipython3",
   "version": "3.5.0"
  }
 },
 "nbformat": 4,
 "nbformat_minor": 2
}
