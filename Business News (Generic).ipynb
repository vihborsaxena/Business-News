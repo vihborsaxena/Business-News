{
 "cells": [
  {
   "cell_type": "code",
   "execution_count": 1,
   "metadata": {},
   "outputs": [],
   "source": [
    "#Import selenium and get browser open\n",
    "from selenium import webdriver\n",
    "from selenium.webdriver.common.keys import Keys\n",
    "import time\n",
    "from IPython.display import Markdown, display\n",
    "def printmd(string):\n",
    "    display(Markdown(string))"
   ]
  },
  {
   "cell_type": "code",
   "execution_count": 2,
   "metadata": {},
   "outputs": [],
   "source": [
    "browser = webdriver.Chrome(executable_path=r\"C:\\chromedriver.exe\")\n",
    "browser.get(\"https://economictimes.indiatimes.com/\") "
   ]
  },
  {
   "cell_type": "code",
   "execution_count": 3,
   "metadata": {},
   "outputs": [
    {
     "data": {
      "text/markdown": [
       "**From Economic Times -**"
      ],
      "text/plain": [
       "<IPython.core.display.Markdown object>"
      ]
     },
     "metadata": {},
     "output_type": "display_data"
    },
    {
     "name": "stdout",
     "output_type": "stream",
     "text": [
      "['Airlines in India spread their wings to escape airfare war at home']\n",
      "[\"Billionaire Anil Agarwal's problems in India may have only just started\", \"IPO for Air India among many options on Modi's table after the flop show in bids\"]\n",
      "['Aircel-Maxis: ED files charge sheet against Karti']\n",
      "[\"Vajpayee's health improving: AIIMS director\"]\n",
      "[\"Bhaiyyuji Maharaj's associate gets power of attorney\"]\n",
      "[\"After 3 years, Kejriwal back to 'dharna' politics\"]\n",
      "['Fire breaks out at Worli high-rise in Mumbai', '']\n",
      "[\"Delhi air beyond 'severe' due to dust storm\", '']\n",
      "['Musharraf gets 1 day to appear before Pak top court']\n",
      "['Aircel-Maxis: ED files fresh chargesheet against Karti']\n",
      "['DNA study gives new theory on how Indians evolved']\n",
      "['Most BSF men killed this year since 2013']\n"
     ]
    }
   ],
   "source": [
    "printmd(\"**From Economic Times -**\")\n",
    "for i in range(1,3):\n",
    "    gnews = browser.find_elements_by_xpath(\"//*[@id='pageContent']/div[1]/hgroup/h\"+str(i)+\"/a\")\n",
    "    titles = [x.text for x in gnews]\n",
    "    print(titles)\n",
    "for i in range(1,11):\n",
    "    gnews = browser.find_elements_by_xpath(\"//*[@id='pageContent']/div[1]/hgroup/h3[\"+str(i)+\"]/a\")\n",
    "    titles = [x.text for x in gnews]\n",
    "    print(titles)"
   ]
  },
  {
   "cell_type": "code",
   "execution_count": 4,
   "metadata": {},
   "outputs": [],
   "source": [
    "browser.execute_script(\"window.open('https://www.moneycontrol.com/')\")\n",
    "window_after = browser.window_handles[1]\n",
    "browser.switch_to_window(window_after)"
   ]
  },
  {
   "cell_type": "code",
   "execution_count": 6,
   "metadata": {},
   "outputs": [
    {
     "data": {
      "text/markdown": [
       "**From Money Control -**"
      ],
      "text/plain": [
       "<IPython.core.display.Markdown object>"
      ]
     },
     "metadata": {},
     "output_type": "display_data"
    },
    {
     "name": "stdout",
     "output_type": "stream",
     "text": [
      "['GST on petrol, diesel may run into stiff opposition from states']\n",
      "['SFIO begins probe into Aircel on suspicion of siphoning funds']\n",
      "[\"News Live: Cabinet approves HDFC Bank's fund raising plan, says Piyush Goyal\"]\n",
      "['UIDAI delays face recognition roll-out for Aadhaar verification until August 1']\n",
      "['Worli high-rise fire LIVE: Firefighting operations under way, 20 fire engines, 5 water tankers at spot']\n",
      "['Labour union accuses Tech Mahindra of layoffs, unfair termination']\n",
      "['Cultivating seaweed could be a massive opportunity for India']\n",
      "['FIFA World Cup 2018: Spain sack coach Julen Lopetegui a day before tournament starts']\n",
      "[\"Single vs multi-trip insurance — What's the best policy for travelling abroad?\"]\n",
      "[]\n",
      "['Future Retail plans to open 10,000 small format stores in next few years: Rakesh Biyani']\n",
      "['Amazing offers at bars and restaurants as FIFA fever grips country']\n",
      "['Nanodiamonds could be source of mysterious microwaves across Milky Way']\n",
      "['Nalco bullish about its prospects despite Trump import tariffs']\n",
      "['Tesla to fire over 3000 employees, Elon Musk confirms move via tweet']\n"
     ]
    }
   ],
   "source": [
    "printmd(\"**From Money Control -**\")\n",
    "for i in range(1):\n",
    "    gnews = browser.find_elements_by_xpath(\"//*[@id='mc_mainWrapper']/section/div/div[2]/section/div[1]/div[2]/div[1]/div[1]/h1/a\")\n",
    "    titles = [x.text for x in gnews]\n",
    "    print(titles)\n",
    "for i in range(1,5):\n",
    "    gnews = browser.find_elements_by_xpath(\"//*[@id='mc_mainWrapper']/section/div/div[2]/section/div[1]/div[2]/div[2]/div/div[\"+str(i)+\"]/p/a\")\n",
    "    titles = [x.text for x in gnews]\n",
    "    print(titles)\n",
    "for i in range(1,11):\n",
    "    gnews = browser.find_elements_by_xpath(\"//*[@id='keynwstb1']/ul/li[\"+str(i)+\"]/a\")\n",
    "    titles = [x.text for x in gnews]\n",
    "    print(titles)"
   ]
  },
  {
   "cell_type": "code",
   "execution_count": null,
   "metadata": {},
   "outputs": [],
   "source": []
  },
  {
   "cell_type": "code",
   "execution_count": null,
   "metadata": {},
   "outputs": [],
   "source": []
  },
  {
   "cell_type": "code",
   "execution_count": null,
   "metadata": {},
   "outputs": [],
   "source": []
  }
 ],
 "metadata": {
  "kernelspec": {
   "display_name": "Python 3",
   "language": "python",
   "name": "python3"
  },
  "language_info": {
   "codemirror_mode": {
    "name": "ipython",
    "version": 3
   },
   "file_extension": ".py",
   "mimetype": "text/x-python",
   "name": "python",
   "nbconvert_exporter": "python",
   "pygments_lexer": "ipython3",
   "version": "3.5.0"
  }
 },
 "nbformat": 4,
 "nbformat_minor": 2
}
